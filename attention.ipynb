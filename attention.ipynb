{
 "cells": [
  {
   "cell_type": "code",
   "execution_count": 1,
   "id": "5d93f65d-f072-4720-8c94-3ae4c8855899",
   "metadata": {},
   "outputs": [],
   "source": [
    "import torch"
   ]
  },
  {
   "cell_type": "code",
   "execution_count": 2,
   "id": "cdac33fc-d9db-47e2-b3ca-c3f8d0605078",
   "metadata": {},
   "outputs": [],
   "source": [
    "inputs = torch.tensor(\n",
    "[[0.43, 0.15, 0.89], # Your \n",
    "[0.55, 0.87, 0.66], # journey \n",
    "[0.57, 0.85, 0.64], # starts \n",
    "[0.22, 0.58, 0.33], # with \n",
    "[0.77, 0.25, 0.10], # one \n",
    "[0.05, 0.80, 0.55]] # step \n",
    ") # we have six input tokens"
   ]
  },
  {
   "cell_type": "code",
   "execution_count": 3,
   "id": "365bec43-5038-4a4b-95e8-5703806cfec0",
   "metadata": {},
   "outputs": [
    {
     "name": "stdout",
     "output_type": "stream",
     "text": [
      "tensor([0.9544, 1.4950, 1.4754, 0.8434, 0.7070, 1.0865])\n"
     ]
    }
   ],
   "source": [
    "query = inputs[1] # the second input token serves as the query\n",
    "attention_scores_2 = torch.empty(inputs.shape[0])\n",
    "for i, x_i in enumerate(inputs):\n",
    "    attention_scores_2[i] = torch.dot(query, inputs[i]) # dot product of the query with the ith token\n",
    "print(attention_scores_2)"
   ]
  },
  {
   "cell_type": "markdown",
   "id": "d22e9348-ba77-402b-b987-4b43f9c8ab6c",
   "metadata": {},
   "source": [
    "As expected, the dot product of the query with itself has the highest value, i.e., attention score. The query attends the most to itself, as expected intuitively. Hence, the context vector z2 also gives the highest attention weight to its own corresponding input vector x2"
   ]
  },
  {
   "cell_type": "code",
   "execution_count": 4,
   "id": "50d3edeb-15fa-4b95-baef-e7ce6788feab",
   "metadata": {},
   "outputs": [
    {
     "name": "stdout",
     "output_type": "stream",
     "text": [
      "Attention weights: tensor([0.1385, 0.2379, 0.2333, 0.1240, 0.1082, 0.1581])\n",
      "Sum: tensor(1.)\n"
     ]
    }
   ],
   "source": [
    "attention_weights_2 = torch.softmax(attention_scores_2, dim=0)\n",
    "print(\"Attention weights:\", attention_weights_2)\n",
    "print(\"Sum:\", attention_weights_2.sum())"
   ]
  },
  {
   "cell_type": "code",
   "execution_count": 5,
   "id": "5b39b0fe-c603-4ea8-a054-1b5f396f3642",
   "metadata": {},
   "outputs": [
    {
     "name": "stdout",
     "output_type": "stream",
     "text": [
      "tensor([0.4419, 0.6515, 0.5683])\n"
     ]
    }
   ],
   "source": [
    "query = inputs[1]\n",
    "context_vec_2 = torch.zeros(query.shape) # context vector for the second input token\n",
    "for idx, x_i in enumerate(inputs):\n",
    "    context_vec_2 += attention_weights_2[idx] * x_i\n",
    "\n",
    "print(context_vec_2) # an enhanced representation of the second input token"
   ]
  },
  {
   "cell_type": "code",
   "execution_count": 6,
   "id": "067d937f-3a01-4757-bd32-7c97d1a4ca7d",
   "metadata": {},
   "outputs": [
    {
     "name": "stdout",
     "output_type": "stream",
     "text": [
      "tensor([[0.9995, 0.9544, 0.9422, 0.4753, 0.4576, 0.6310],\n",
      "        [0.9544, 1.4950, 1.4754, 0.8434, 0.7070, 1.0865],\n",
      "        [0.9422, 1.4754, 1.4570, 0.8296, 0.7154, 1.0605],\n",
      "        [0.4753, 0.8434, 0.8296, 0.4937, 0.3474, 0.6565],\n",
      "        [0.4576, 0.7070, 0.7154, 0.3474, 0.6654, 0.2935],\n",
      "        [0.6310, 1.0865, 1.0605, 0.6565, 0.2935, 0.9450]])\n"
     ]
    }
   ],
   "source": [
    "attention_scores = torch.empty(6,6)\n",
    "for i, x_i in enumerate(inputs):\n",
    "    for j, x_j in enumerate(inputs):\n",
    "        attention_scores[i,j] = torch.dot(x_i, x_j)\n",
    "print(attention_scores)"
   ]
  },
  {
   "cell_type": "code",
   "execution_count": 7,
   "id": "20bf5960-e2b0-4d20-b18c-02abe6eb0c44",
   "metadata": {},
   "outputs": [
    {
     "name": "stdout",
     "output_type": "stream",
     "text": [
      "tensor([[0.9995, 0.9544, 0.9422, 0.4753, 0.4576, 0.6310],\n",
      "        [0.9544, 1.4950, 1.4754, 0.8434, 0.7070, 1.0865],\n",
      "        [0.9422, 1.4754, 1.4570, 0.8296, 0.7154, 1.0605],\n",
      "        [0.4753, 0.8434, 0.8296, 0.4937, 0.3474, 0.6565],\n",
      "        [0.4576, 0.7070, 0.7154, 0.3474, 0.6654, 0.2935],\n",
      "        [0.6310, 1.0865, 1.0605, 0.6565, 0.2935, 0.9450]])\n"
     ]
    }
   ],
   "source": [
    "attention_scores = inputs @ inputs.T\n",
    "print(attention_scores)"
   ]
  },
  {
   "cell_type": "code",
   "execution_count": 8,
   "id": "15ec4867-8a48-46aa-bfb5-ac1597b621ab",
   "metadata": {},
   "outputs": [],
   "source": [
    "attention_weights = torch.softmax(attention_scores, dim=-1) # along the last dimension, i.e., dimension 1"
   ]
  },
  {
   "cell_type": "code",
   "execution_count": 9,
   "id": "6b837b37-f7f3-4b33-9847-f403279a8ea4",
   "metadata": {},
   "outputs": [
    {
     "name": "stdout",
     "output_type": "stream",
     "text": [
      "tensor([1.0000, 1.0000, 1.0000, 1.0000, 1.0000, 1.0000])\n"
     ]
    }
   ],
   "source": [
    "print(torch.sum(attention_weights, dim=1))"
   ]
  },
  {
   "cell_type": "code",
   "execution_count": 10,
   "id": "9e3521f9-dda5-4348-adf6-e715ed51cd96",
   "metadata": {},
   "outputs": [],
   "source": [
    "context_vecs = attention_weights @ inputs # softmax(XX^T)X as per bishop. Just a matrix multiplication"
   ]
  },
  {
   "cell_type": "code",
   "execution_count": 11,
   "id": "9726c406-fcd0-4ad9-a422-c4ecee1b2c8f",
   "metadata": {},
   "outputs": [
    {
     "data": {
      "text/plain": [
       "tensor([[0.4421, 0.5931, 0.5790],\n",
       "        [0.4419, 0.6515, 0.5683],\n",
       "        [0.4431, 0.6496, 0.5671],\n",
       "        [0.4304, 0.6298, 0.5510],\n",
       "        [0.4671, 0.5910, 0.5266],\n",
       "        [0.4177, 0.6503, 0.5645]])"
      ]
     },
     "execution_count": 11,
     "metadata": {},
     "output_type": "execute_result"
    }
   ],
   "source": [
    "context_vecs"
   ]
  },
  {
   "cell_type": "markdown",
   "id": "fcce3f8b-3a6d-4884-97eb-c231372259a4",
   "metadata": {},
   "source": [
    "Now we implement self-attention, with all the query, key and value matrices"
   ]
  },
  {
   "cell_type": "markdown",
   "id": "35f4e56a-50d8-4501-b60f-32f35c9c7c7b",
   "metadata": {},
   "source": [
    "We again start with the goal of calculating the context vector of a single input token, before generalizing it."
   ]
  },
  {
   "cell_type": "code",
   "execution_count": 12,
   "id": "fc3ebbfb-3ff5-4843-a641-e1b80c14beef",
   "metadata": {},
   "outputs": [],
   "source": [
    "x_2 = inputs[1]\n",
    "d_in = inputs.shape[1]\n",
    "d_out = 2"
   ]
  },
  {
   "cell_type": "code",
   "execution_count": 13,
   "id": "323fba4b-58fb-4f15-ae43-629df4855b27",
   "metadata": {},
   "outputs": [
    {
     "data": {
      "text/plain": [
       "torch.Size([3])"
      ]
     },
     "execution_count": 13,
     "metadata": {},
     "output_type": "execute_result"
    }
   ],
   "source": [
    "x_2.shape"
   ]
  },
  {
   "cell_type": "code",
   "execution_count": 14,
   "id": "8eda1a42-c3bd-4aed-9aa0-a0cf237c29f0",
   "metadata": {},
   "outputs": [],
   "source": [
    "torch.manual_seed(123)\n",
    "W_query = torch.nn.Parameter(torch.rand(d_in, d_out), requires_grad=False)\n",
    "W_key = torch.nn.Parameter(torch.rand(d_in, d_out), requires_grad=False)\n",
    "W_value = torch.nn.Parameter(torch.rand(d_in, d_out), requires_grad=False)"
   ]
  },
  {
   "cell_type": "code",
   "execution_count": 15,
   "id": "8b7b4a13-01e7-4940-9b85-b244a5c68818",
   "metadata": {},
   "outputs": [
    {
     "name": "stdout",
     "output_type": "stream",
     "text": [
      "tensor([0.4306, 1.4551])\n"
     ]
    }
   ],
   "source": [
    "query_2 = x_2 @ W_query # x_2 is automatically broadcasted as a row vector [1, 3] to support the matrix multiplication \n",
    "key_2 = x_2 @ W_key\n",
    "value_2 = x_2 @ W_value\n",
    "print(query_2)"
   ]
  },
  {
   "cell_type": "code",
   "execution_count": 16,
   "id": "191c8c4e-52fe-43eb-845f-604e33232669",
   "metadata": {},
   "outputs": [
    {
     "data": {
      "text/plain": [
       "torch.Size([3, 2])"
      ]
     },
     "execution_count": 16,
     "metadata": {},
     "output_type": "execute_result"
    }
   ],
   "source": [
    "W_query.shape"
   ]
  },
  {
   "cell_type": "code",
   "execution_count": 17,
   "id": "9c8e774d-1b3d-4b19-a176-efb430a0278c",
   "metadata": {},
   "outputs": [
    {
     "data": {
      "text/plain": [
       "tensor([3., 3.])"
      ]
     },
     "execution_count": 17,
     "metadata": {},
     "output_type": "execute_result"
    }
   ],
   "source": [
    "torch.ones(3) @ torch.ones(3,2)"
   ]
  },
  {
   "cell_type": "code",
   "execution_count": 18,
   "id": "afec8992-6173-49e4-9a1f-8233414fdfa5",
   "metadata": {},
   "outputs": [
    {
     "data": {
      "text/plain": [
       "tensor([2., 2., 2.])"
      ]
     },
     "execution_count": 18,
     "metadata": {},
     "output_type": "execute_result"
    }
   ],
   "source": [
    "torch.ones(3,2) @ torch.ones(2)"
   ]
  },
  {
   "cell_type": "code",
   "execution_count": 19,
   "id": "bc69a6de-cf03-4d7c-b854-ebfb603bae2a",
   "metadata": {},
   "outputs": [
    {
     "name": "stdout",
     "output_type": "stream",
     "text": [
      "keys.shape torch.Size([6, 2])\n",
      "values.shape torch.Size([6, 2])\n"
     ]
    }
   ],
   "source": [
    "keys = inputs @ W_key # (N, 3) @ (3,2) = (N,2)\n",
    "values = inputs @ W_value\n",
    "print(\"keys.shape\", keys.shape)\n",
    "print(\"values.shape\", values.shape)"
   ]
  },
  {
   "cell_type": "code",
   "execution_count": 20,
   "id": "678b6822-184f-4a4a-9843-3d4d89542625",
   "metadata": {},
   "outputs": [
    {
     "name": "stdout",
     "output_type": "stream",
     "text": [
      "tensor([1.2705, 1.8524, 1.8111, 1.0795, 0.5577, 1.5440])\n"
     ]
    }
   ],
   "source": [
    "attention_scores_2 = query_2 @ keys.T # all the attention scores for a given query; a bunch of dot products\n",
    "print(attention_scores_2)"
   ]
  },
  {
   "cell_type": "code",
   "execution_count": 21,
   "id": "69002463-a9f5-45dc-af3c-2e471ea12bc0",
   "metadata": {},
   "outputs": [
    {
     "name": "stdout",
     "output_type": "stream",
     "text": [
      "tensor([0.1500, 0.2264, 0.2199, 0.1311, 0.0906, 0.1820])\n"
     ]
    }
   ],
   "source": [
    "d_k = keys.shape[-1] # the embedding dimension of the keys\n",
    "attention_weights_2 = torch.softmax(attention_scores_2 / d_k**0.5, dim=-1)\n",
    "print(attention_weights_2)"
   ]
  },
  {
   "cell_type": "code",
   "execution_count": 22,
   "id": "1b41f05f-4663-413c-901a-001593443382",
   "metadata": {},
   "outputs": [],
   "source": [
    "context_vec2 = attention_weights_2 @ values # a row vector times a matrix = linear combination of the rows of the matrix"
   ]
  },
  {
   "cell_type": "code",
   "execution_count": 23,
   "id": "ada75cd9-b60f-4a7d-90f1-32143162b9b6",
   "metadata": {},
   "outputs": [],
   "source": [
    "# A compact self-attention class\n",
    "import torch.nn as nn\n",
    "class SelfAttentionV1(nn.Module):\n",
    "    def __init__(self, d_in, d_out):\n",
    "        super().__init__() # intializing the parent class\n",
    "        self.W_query = nn.Parameter(torch.rand(d_in, d_out)) # a (3,2) matrix\n",
    "        self.W_key = nn.Parameter(torch.rand(d_in, d_out))\n",
    "        self.W_value = nn.Parameter(torch.rand(d_in, d_out))\n",
    "\n",
    "    def forward(self, X): # takes the input data matrix and calculates the output matrix of context vectors\n",
    "        queries = X @ self.W_query\n",
    "        keys = X @ self.W_key\n",
    "        values = X @ self.W_value\n",
    "\n",
    "        attention_scores = queries @ keys.T\n",
    "        attention_weights = torch.softmax(attention_scores / keys.shape[-1] ** 0.5, dim=1)\n",
    "        context_vecs = attention_weights @ values\n",
    "        return context_vecs\n",
    "\n"
   ]
  },
  {
   "cell_type": "code",
   "execution_count": 24,
   "id": "b93f5825-aae8-433c-9661-f90146af7100",
   "metadata": {},
   "outputs": [
    {
     "name": "stdout",
     "output_type": "stream",
     "text": [
      "tensor([[0.2996, 0.8053],\n",
      "        [0.3061, 0.8210],\n",
      "        [0.3058, 0.8203],\n",
      "        [0.2948, 0.7939],\n",
      "        [0.2927, 0.7891],\n",
      "        [0.2990, 0.8040]], grad_fn=<MmBackward0>)\n"
     ]
    }
   ],
   "source": [
    "torch.manual_seed(123)\n",
    "sa_v1 = SelfAttentionV1(d_in, d_out)\n",
    "print(sa_v1(inputs)) # I think calling the class itself is equivalent to calling the forward method, in torch.nn.Module"
   ]
  },
  {
   "cell_type": "code",
   "execution_count": 25,
   "id": "a63b6a08-b483-42ac-99bf-2976a9e4c241",
   "metadata": {},
   "outputs": [],
   "source": [
    "class SelfAttentionV2(nn.Module):\n",
    "    def __init__(self, d_in, d_out, qkv_bias=False):\n",
    "        super().__init__() # intializing the parent class\n",
    "        self.W_query = nn.Linear(d_in, d_out, bias=qkv_bias)\n",
    "        self.W_key = nn.Linear(d_in, d_out, bias=qkv_bias)\n",
    "        self.W_value = nn.Linear(d_in, d_out, bias=qkv_bias)\n",
    "\n",
    "    def forward(self, X): \n",
    "        queries = self.W_query(X) # nn.Linear stores the weight matrices in transposed form, i.e., it's a (2,3) matrix\n",
    "        keys = self.W_key(X) # we do X @ (what's stored in nn.Linear(W.T)).T, esentially X@W\n",
    "        values = self.W_value(X)\n",
    "\n",
    "        attention_scores = queries @ keys.T\n",
    "        attention_weights = torch.softmax(attention_scores / keys.shape[-1] ** 0.5, dim=1)\n",
    "        context_vecs = attention_weights @ values\n",
    "        return context_vecs"
   ]
  },
  {
   "cell_type": "code",
   "execution_count": 26,
   "id": "1cf8ee8a-460d-40fb-a79f-0eac1e3a338f",
   "metadata": {},
   "outputs": [
    {
     "name": "stdout",
     "output_type": "stream",
     "text": [
      "tensor([[-0.0739,  0.0713],\n",
      "        [-0.0748,  0.0703],\n",
      "        [-0.0749,  0.0702],\n",
      "        [-0.0760,  0.0685],\n",
      "        [-0.0763,  0.0679],\n",
      "        [-0.0754,  0.0693]], grad_fn=<MmBackward0>)\n"
     ]
    }
   ],
   "source": [
    "torch.manual_seed(789)\n",
    "sa_v2 = SelfAttentionV2(d_in, d_out)\n",
    "print(sa_v2(inputs))"
   ]
  },
  {
   "cell_type": "code",
   "execution_count": 27,
   "id": "3c49d07a-6f2c-4a8a-9560-15b53bf88322",
   "metadata": {},
   "outputs": [],
   "source": [
    "sa_v1.W_query.data = sa_v2.W_query.weight.T\n",
    "sa_v1.W_key.data = sa_v2.W_key.weight.T\n",
    "sa_v1.W_value.data = sa_v2.W_value.weight.T"
   ]
  },
  {
   "cell_type": "code",
   "execution_count": 28,
   "id": "50f10b7e-0254-49b9-8465-e901cd3f0857",
   "metadata": {},
   "outputs": [
    {
     "name": "stdout",
     "output_type": "stream",
     "text": [
      "tensor([[-0.0739,  0.0713],\n",
      "        [-0.0748,  0.0703],\n",
      "        [-0.0749,  0.0702],\n",
      "        [-0.0760,  0.0685],\n",
      "        [-0.0763,  0.0679],\n",
      "        [-0.0754,  0.0693]], grad_fn=<MmBackward0>)\n"
     ]
    }
   ],
   "source": [
    "print(sa_v1(inputs)) # verifying that the implementation is the same"
   ]
  },
  {
   "cell_type": "code",
   "execution_count": 29,
   "id": "233fb524-b1fa-4145-bf09-71f696e374ce",
   "metadata": {},
   "outputs": [],
   "source": [
    "queries = sa_v2.W_query(inputs)\n",
    "keys = sa_v2.W_key(inputs)\n",
    "values = sa_v2.W_value(inputs)"
   ]
  },
  {
   "cell_type": "code",
   "execution_count": 30,
   "id": "c1a02e77-2358-4c1d-b7c1-12bd513b31b7",
   "metadata": {},
   "outputs": [
    {
     "name": "stdout",
     "output_type": "stream",
     "text": [
      "tensor([[0.1921, 0.1646, 0.1652, 0.1550, 0.1721, 0.1510],\n",
      "        [0.2041, 0.1659, 0.1662, 0.1496, 0.1665, 0.1477],\n",
      "        [0.2036, 0.1659, 0.1662, 0.1498, 0.1664, 0.1480],\n",
      "        [0.1869, 0.1667, 0.1668, 0.1571, 0.1661, 0.1564],\n",
      "        [0.1830, 0.1669, 0.1670, 0.1588, 0.1658, 0.1585],\n",
      "        [0.1935, 0.1663, 0.1666, 0.1542, 0.1666, 0.1529]],\n",
      "       grad_fn=<SoftmaxBackward0>)\n"
     ]
    }
   ],
   "source": [
    "attention_scores = queries @ keys.T\n",
    "attention_weights = torch.softmax(attention_scores / keys.shape[-1] ** 0.5, dim=1)\n",
    "print(attention_weights)"
   ]
  },
  {
   "cell_type": "code",
   "execution_count": 31,
   "id": "5afe0511-5b16-4920-9710-6c534901215b",
   "metadata": {},
   "outputs": [
    {
     "name": "stdout",
     "output_type": "stream",
     "text": [
      "tensor([[0.1921, 0.0000, 0.0000, 0.0000, 0.0000, 0.0000],\n",
      "        [0.2041, 0.1659, 0.0000, 0.0000, 0.0000, 0.0000],\n",
      "        [0.2036, 0.1659, 0.1662, 0.0000, 0.0000, 0.0000],\n",
      "        [0.1869, 0.1667, 0.1668, 0.1571, 0.0000, 0.0000],\n",
      "        [0.1830, 0.1669, 0.1670, 0.1588, 0.1658, 0.0000],\n",
      "        [0.1935, 0.1663, 0.1666, 0.1542, 0.1666, 0.1529]],\n",
      "       grad_fn=<MulBackward0>)\n"
     ]
    }
   ],
   "source": [
    "context_length = attention_weights.shape[0]\n",
    "mask = torch.tril(torch.ones(context_length, context_length)) # returns the lower triangular part of the matrix\n",
    "masked_weights = attention_weights * mask\n",
    "print(masked_weights)"
   ]
  },
  {
   "cell_type": "code",
   "execution_count": 32,
   "id": "99d75c07-6449-41d8-80f4-d7feec875776",
   "metadata": {},
   "outputs": [
    {
     "name": "stdout",
     "output_type": "stream",
     "text": [
      "tensor([[1.0000, 0.0000, 0.0000, 0.0000, 0.0000, 0.0000],\n",
      "        [0.5517, 0.4483, 0.0000, 0.0000, 0.0000, 0.0000],\n",
      "        [0.3800, 0.3097, 0.3103, 0.0000, 0.0000, 0.0000],\n",
      "        [0.2758, 0.2460, 0.2462, 0.2319, 0.0000, 0.0000],\n",
      "        [0.2175, 0.1983, 0.1984, 0.1888, 0.1971, 0.0000],\n",
      "        [0.1935, 0.1663, 0.1666, 0.1542, 0.1666, 0.1529]],\n",
      "       grad_fn=<DivBackward0>)\n"
     ]
    }
   ],
   "source": [
    "row_sums = masked_weights.sum(dim=-1, keepdim=True) # has shape (context_length, 1) instead of (context_length,)\n",
    "masked_weights_norm = masked_weights / row_sums\n",
    "print(masked_weights_norm)"
   ]
  },
  {
   "cell_type": "code",
   "execution_count": 33,
   "id": "7b69093c-b616-4a09-8897-d64b64dc500e",
   "metadata": {},
   "outputs": [
    {
     "name": "stdout",
     "output_type": "stream",
     "text": [
      "tensor([[0., 1., 1., 1., 1., 1.],\n",
      "        [0., 0., 1., 1., 1., 1.],\n",
      "        [0., 0., 0., 1., 1., 1.],\n",
      "        [0., 0., 0., 0., 1., 1.],\n",
      "        [0., 0., 0., 0., 0., 1.],\n",
      "        [0., 0., 0., 0., 0., 0.]])\n"
     ]
    }
   ],
   "source": [
    "mask_inf = torch.triu(torch.ones(context_length, context_length), diagonal=1) # diagonal=1 => exclude the main diagonal\n",
    "print(mask_inf)"
   ]
  },
  {
   "cell_type": "code",
   "execution_count": 34,
   "id": "c7a8dd14-6ee9-4978-bd68-8f4c6bfd4593",
   "metadata": {},
   "outputs": [],
   "source": [
    "masked_attention_scores = attention_scores.masked_fill(mask_inf.bool(), -torch.inf)"
   ]
  },
  {
   "cell_type": "code",
   "execution_count": 35,
   "id": "528913c6-3446-4cac-a757-4fad3fbd6a29",
   "metadata": {},
   "outputs": [
    {
     "name": "stdout",
     "output_type": "stream",
     "text": [
      "tensor([[1.0000, 0.0000, 0.0000, 0.0000, 0.0000, 0.0000],\n",
      "        [0.5517, 0.4483, 0.0000, 0.0000, 0.0000, 0.0000],\n",
      "        [0.3800, 0.3097, 0.3103, 0.0000, 0.0000, 0.0000],\n",
      "        [0.2758, 0.2460, 0.2462, 0.2319, 0.0000, 0.0000],\n",
      "        [0.2175, 0.1983, 0.1984, 0.1888, 0.1971, 0.0000],\n",
      "        [0.1935, 0.1663, 0.1666, 0.1542, 0.1666, 0.1529]],\n",
      "       grad_fn=<SoftmaxBackward0>)\n"
     ]
    }
   ],
   "source": [
    "attention_weights = torch.softmax(masked_attention_scores/keys.shape[-1]**0.5, dim=-1)\n",
    "print(attention_weights)"
   ]
  },
  {
   "cell_type": "code",
   "execution_count": 37,
   "id": "6742587b-b3f2-4b73-8fe3-d34014ba3c30",
   "metadata": {},
   "outputs": [],
   "source": [
    "dropout = torch.nn.Dropout(0.5)"
   ]
  },
  {
   "cell_type": "code",
   "execution_count": 38,
   "id": "86aa586d-43be-4c45-8835-7eb15febe0af",
   "metadata": {},
   "outputs": [
    {
     "data": {
      "text/plain": [
       "torch.nn.modules.dropout.Dropout"
      ]
     },
     "execution_count": 38,
     "metadata": {},
     "output_type": "execute_result"
    }
   ],
   "source": [
    "type(dropout)"
   ]
  },
  {
   "cell_type": "code",
   "execution_count": 39,
   "id": "d2e8f40f-ce96-42fc-b6cd-2b30b4633ae5",
   "metadata": {},
   "outputs": [
    {
     "name": "stdout",
     "output_type": "stream",
     "text": [
      "torch.Size([2, 6, 3])\n"
     ]
    }
   ],
   "source": [
    "batch = torch.stack((inputs, inputs), dim=0)\n",
    "print(batch.shape)"
   ]
  },
  {
   "cell_type": "code",
   "execution_count": 42,
   "id": "0bd05742-c6ab-4b08-9143-8994d3a21415",
   "metadata": {},
   "outputs": [],
   "source": [
    "valid = ~mask_inf.bool()"
   ]
  },
  {
   "cell_type": "code",
   "execution_count": 43,
   "id": "bf77d5f5-2fe3-467e-9724-1b9cce4416bb",
   "metadata": {},
   "outputs": [
    {
     "data": {
      "text/plain": [
       "tensor([[0., 0., 0., 0., 0., 0.],\n",
       "        [1., 0., 0., 0., 0., 0.],\n",
       "        [0., 0., 1., 0., 0., 0.],\n",
       "        [0., 1., 1., 0., 0., 0.],\n",
       "        [1., 0., 0., 0., 0., 0.],\n",
       "        [1., 0., 0., 0., 1., 0.]])"
      ]
     },
     "execution_count": 43,
     "metadata": {},
     "output_type": "execute_result"
    }
   ],
   "source": [
    "torch.bernoulli(valid.float() * 0.5)"
   ]
  },
  {
   "cell_type": "code",
   "execution_count": 46,
   "id": "8efc9f35-a949-435e-a0bd-99d37a136dda",
   "metadata": {},
   "outputs": [],
   "source": [
    "class CausalAttention(nn.Module): # also handles a batch of input tokens, i.e., a three dimensional tensor\n",
    "    def __init__(self, d_in, d_out, context_length, dropout, qkv_bias=False):\n",
    "        super().__init__()\n",
    "        self.W_query = nn.Linear(d_in, d_out, bias=qkv_bias)\n",
    "        self.W_key = nn.Linear(d_in, d_out, bias=qkv_bias)\n",
    "        self.W_value = nn.Linear(d_in, d_out, bias=qkv_bias)\n",
    "        self.dropout = nn.Dropout(dropout)\n",
    "        self.register_buffer(\n",
    "            'mask', \n",
    "            torch.triu(torch.ones(context_length, context_length), diagonal=1),\n",
    "        )\n",
    "    \n",
    "    def forward(self, X):\n",
    "        batch_size, num_tokens, d_in = X.shape\n",
    "        queries = self.W_query(X)\n",
    "        keys = self.W_key(X)\n",
    "        values = self.W_value(X)\n",
    "\n",
    "        attention_scores = queries @ keys.transpose(1,2) # i.e., transpose only the second and third dimensions\n",
    "        attention_scores = attention_scores / keys.shape[-1]**0.5\n",
    "\n",
    "        # Get the causal mask (1s in upper triangular part)\n",
    "        causal_mask = self.mask.bool()[:num_tokens, :num_tokens]\n",
    "        \n",
    "        # Always apply causal mask first\n",
    "        attention_scores.masked_fill_(causal_mask, -torch.inf)\n",
    "\n",
    "        if self.training and self.dropout.p > 0:\n",
    "            valid_positions = ~causal_mask # inverting the causal mask\n",
    "\n",
    "            # create a random dropout mask\n",
    "            dropout_mask = torch.bernoulli(valid_positions.float() * self.dropout.p)\n",
    "\n",
    "            attention_scores = attention_scores.masked_fill(dropout_mask.bool(), -torch.inf)\n",
    "\n",
    "        attention_weights = torch.softmax(attention_scores, dim=-1) # over the last dimension, i.e., the token embedding dimension\n",
    "        context_vecs = attention_weights @ values\n",
    "        return context_vecs\n",
    "\n"
   ]
  },
  {
   "cell_type": "code",
   "execution_count": 47,
   "id": "349cfd7b-15d5-4224-be54-d02f42c64fc1",
   "metadata": {},
   "outputs": [
    {
     "name": "stdout",
     "output_type": "stream",
     "text": [
      "torch.Size([2, 6, 2])\n"
     ]
    }
   ],
   "source": [
    "torch.manual_seed(123)\n",
    "context_length = batch.shape[1]\n",
    "ca = CausalAttention(d_in, d_out, context_length, 0)\n",
    "context_vecs = ca(batch)\n",
    "print(context_vecs.shape)"
   ]
  },
  {
   "cell_type": "code",
   "execution_count": 48,
   "id": "98b15ff9-ed96-485b-a33c-960ffaa54ee8",
   "metadata": {},
   "outputs": [],
   "source": [
    "class MultiHeadAttentionWrapper(nn.Module):\n",
    "    def __init__(self, d_in, d_out, context_length, dropout, num_heads, qkv_bias=False):\n",
    "        super().__init__()\n",
    "        self.heads = nn.ModuleList(\n",
    "            [CausalAttention(d_in, d_out, context_length, dropout) for _ in range(num_heads)]\n",
    "        )\n",
    "\n",
    "    def forward(self, X):\n",
    "        return torch.cat([head(X) for head in self.heads], dim=-1) # concatenate along the last dimension, i.e., embedding dimension\n"
   ]
  },
  {
   "cell_type": "code",
   "execution_count": 51,
   "id": "585c6d61-8047-405e-bd1d-c028163cef34",
   "metadata": {},
   "outputs": [
    {
     "name": "stdout",
     "output_type": "stream",
     "text": [
      "tensor([[[-0.4519,  0.2216,  0.4772,  0.1063],\n",
      "         [-0.5874,  0.0058,  0.5891,  0.3257],\n",
      "         [-0.6300, -0.0632,  0.6202,  0.3860],\n",
      "         [-0.5675, -0.0843,  0.5478,  0.3589],\n",
      "         [-0.5526, -0.0981,  0.5321,  0.3428],\n",
      "         [-0.5299, -0.1081,  0.5077,  0.3493]],\n",
      "\n",
      "        [[-0.4519,  0.2216,  0.4772,  0.1063],\n",
      "         [-0.5874,  0.0058,  0.5891,  0.3257],\n",
      "         [-0.6300, -0.0632,  0.6202,  0.3860],\n",
      "         [-0.5675, -0.0843,  0.5478,  0.3589],\n",
      "         [-0.5526, -0.0981,  0.5321,  0.3428],\n",
      "         [-0.5299, -0.1081,  0.5077,  0.3493]]], grad_fn=<CatBackward0>)\n",
      "Context vectors shape:  torch.Size([2, 6, 4])\n"
     ]
    }
   ],
   "source": [
    "torch.manual_seed(123)\n",
    "context_length = batch.shape[1]\n",
    "d_in, d_out = 3, 2\n",
    "mha = MultiHeadAttentionWrapper(d_in, d_out, context_length, 0, num_heads=2)\n",
    "context_vecs = mha(batch) # applying the forward method\n",
    "\n",
    "print(context_vecs)\n",
    "print(\"Context vectors shape: \", context_vecs.shape)"
   ]
  },
  {
   "cell_type": "code",
   "execution_count": 72,
   "id": "33e8961d-abfc-421a-8cee-af4b7be1d8eb",
   "metadata": {},
   "outputs": [],
   "source": [
    "class MultiHeadAttention(nn.Module):\n",
    "    def __init__(self, d_in, d_out, context_length, dropout, num_heads, qkv_bias=False): \n",
    "        # here d_out = num_heads * output dim of a single head\n",
    "        super().__init__()\n",
    "        assert (d_out % num_heads == 0), \\\n",
    "            \"d_out must be divisible by num_heads\"\n",
    "\n",
    "        self.d_out = d_out\n",
    "        self.num_heads = num_heads\n",
    "        self.head_dim = d_out // num_heads # output dimension of a single head\n",
    "        self.W_query = nn.Linear(d_in, d_out, bias=qkv_bias)\n",
    "        self.W_key = nn.Linear(d_in, d_out, bias=qkv_bias)\n",
    "        self.W_value = nn.Linear(d_in, d_out, bias=qkv_bias)\n",
    "        self.output_proj = nn.Linear(d_out, d_out)\n",
    "        self.dropout = nn.Dropout(dropout)\n",
    "        self.register_buffer(\n",
    "            'mask', \n",
    "            torch.triu(torch.ones(context_length, context_length), diagonal=1),\n",
    "        )\n",
    "\n",
    "    def forward(self, X):\n",
    "        b, num_tokens, d_in = X.shape # here num_tokens need not be context_length (which is the maximum number of input tokens our model can handle)\n",
    "        queries = self.W_query(X)\n",
    "        keys = self.W_key(X)\n",
    "        values = self.W_value(X) # Q, K, V has shape (b, num_tokens, d_out)\n",
    "\n",
    "        queries = queries.view(b, num_tokens, self.num_heads, self.head_dim)\n",
    "        keys = keys.view(b, num_tokens, self.num_heads, self.head_dim)\n",
    "        values = values.view(b, num_tokens, self.num_heads, self.head_dim)\n",
    "\n",
    "        queries = queries.transpose(1,2) # Q, K, V have shape (b, num_heads, num_tokens, head_dim)\n",
    "        keys = keys.transpose(1,2)  \n",
    "        values = values.transpose(1,2)\n",
    "\n",
    "        attention_scores = queries @ keys.transpose(2, 3) # the scores has shape (b, num_heads, num_tokens, num_tokens)\n",
    "        # start: this part doesn't change\n",
    "        attention_scores = attention_scores / keys.shape[-1]**0.5\n",
    "\n",
    "        # Get the causal mask (1s in upper triangular part)\n",
    "        causal_mask = self.mask.bool()[:num_tokens, :num_tokens]\n",
    "        \n",
    "        # Always apply causal mask first\n",
    "        attention_scores.masked_fill_(causal_mask, -torch.inf)\n",
    "\n",
    "        if self.training and self.dropout.p > 0:\n",
    "            valid_positions = ~causal_mask # inverting the causal mask\n",
    "\n",
    "            # create a random dropout mask\n",
    "            dropout_mask = torch.bernoulli(valid_positions.float() * self.dropout.p)\n",
    "\n",
    "            attention_scores = attention_scores.masked_fill(dropout_mask.bool(), -torch.inf)\n",
    "\n",
    "        attention_weights = torch.softmax(attention_scores, dim=-1) \n",
    "        # End of the part that doesn't change\n",
    "\n",
    "        context_vecs = attention_weights @ values # (b, num_heads, num_tokens, num_tokens) @ (b, num_heads, num_tokens, head_dim)\n",
    "         # = (b, num_heads, num_tokens, head_dim --> we got the context vectors for all the attention heads simultaneously \n",
    "\n",
    "        # now we reshape context vectors to the shap (b, num_of_tokens, d_out), i.e., flatten it; combine the heads\n",
    "        context_vecs = context_vecs.transpose(1,2)\n",
    "        context_vecs = context_vecs.contiguous().view(b, num_tokens, self.d_out)\n",
    "        context_vecs = self.output_proj(context_vecs)\n",
    "\n",
    "        return context_vecs\n",
    "\n",
    "\n",
    "        "
   ]
  },
  {
   "cell_type": "code",
   "execution_count": 73,
   "id": "c2499ba0-a7aa-4505-8e07-b6209683185c",
   "metadata": {},
   "outputs": [
    {
     "name": "stdout",
     "output_type": "stream",
     "text": [
      "torch.Size([1, 1024, 2, 2])\n",
      "tensor([[[-0.2419, -0.1588, -0.2008, -0.3327],\n",
      "         [-0.2048, -0.0837, -0.2335, -0.3069],\n",
      "         [-0.1194, -0.0946, -0.1823, -0.2552],\n",
      "         ...,\n",
      "         [-0.0918, -0.0319, -0.2456, -0.2318],\n",
      "         [-0.0917, -0.0319, -0.2454, -0.2317],\n",
      "         [-0.0918, -0.0318, -0.2454, -0.2317]]], grad_fn=<ViewBackward0>)\n",
      "context_vecs.shape: torch.Size([1, 1024, 4])\n"
     ]
    }
   ],
   "source": [
    "torch.manual_seed(123)\n",
    "batch_size, context_length, d_in = batch.shape\n",
    "d_out = 4\n",
    "mha = MultiHeadAttention(d_in, d_out, context_length, 0.0, num_heads=2)\n",
    "context_vecs = mha(batch)\n",
    "print(context_vecs)\n",
    "print(\"context_vecs.shape:\", context_vecs.shape)"
   ]
  },
  {
   "cell_type": "code",
   "execution_count": 74,
   "id": "55cfd1b7-d36f-4035-b31b-03237b5c47b4",
   "metadata": {},
   "outputs": [
    {
     "name": "stdout",
     "output_type": "stream",
     "text": [
      "torch.Size([1, 1024, 12, 768])\n",
      "context_vecs.shape: torch.Size([1, 1024, 9216])\n"
     ]
    }
   ],
   "source": [
    "torch.manual_seed(123)\n",
    "batch_size, context_length, d_in = 1, 1024, 768\n",
    "batch = torch.rand(1024, 768)\n",
    "batch = batch.reshape(1, 1024, 768)\n",
    "d_out = 768*12\n",
    "mha_gpt2 = MultiHeadAttention(d_in, d_out, context_length, 0.0, num_heads=12)\n",
    "context_vecs = mha_gpt2(batch)\n",
    "print(\"context_vecs.shape:\", context_vecs.shape)"
   ]
  },
  {
   "cell_type": "code",
   "execution_count": 67,
   "id": "7dfc084f-9b7c-4edf-911d-e4a568110098",
   "metadata": {},
   "outputs": [
    {
     "data": {
      "text/plain": [
       "torch.Size([1, 25])"
      ]
     },
     "execution_count": 67,
     "metadata": {},
     "output_type": "execute_result"
    }
   ],
   "source": [
    "a = torch.rand(5,5)\n",
    "b = a.reshape(1, -1)\n",
    "b.shape"
   ]
  },
  {
   "cell_type": "code",
   "execution_count": null,
   "id": "0cb53c02-acc0-4bf6-a26e-22258f8601e3",
   "metadata": {},
   "outputs": [],
   "source": []
  }
 ],
 "metadata": {
  "kernelspec": {
   "display_name": "Python 3 (ipykernel)",
   "language": "python",
   "name": "python3"
  },
  "language_info": {
   "codemirror_mode": {
    "name": "ipython",
    "version": 3
   },
   "file_extension": ".py",
   "mimetype": "text/x-python",
   "name": "python",
   "nbconvert_exporter": "python",
   "pygments_lexer": "ipython3",
   "version": "3.8.19"
  }
 },
 "nbformat": 4,
 "nbformat_minor": 5
}
